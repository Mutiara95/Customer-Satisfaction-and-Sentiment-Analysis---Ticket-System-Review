{
  "nbformat": 4,
  "nbformat_minor": 0,
  "metadata": {
    "colab": {
      "provenance": [],
      "gpuType": "T4"
    },
    "kernelspec": {
      "name": "python3",
      "display_name": "Python 3"
    },
    "language_info": {
      "name": "python"
    },
    "accelerator": "GPU"
  },
  "cells": [
    {
      "cell_type": "markdown",
      "source": [
        "# Assignment Customer Satisfaction and Sentiment Analysis\n"
      ],
      "metadata": {
        "id": "3hUmis7astY-"
      }
    },
    {
      "cell_type": "markdown",
      "source": [
        "## Objective\n",
        "\n",
        "You are a data analyst of a consulting company that provides customer insight regarding multiple ticketing system, such as JIRA and Zoho Desk. Your team gather surveys to customers regarding their ticketing system's performance. Your role in the team is to gather reports regarding customer satisfaction and sentiment analysis into a single dashboard and present your insight.\n",
        "\n",
        "Analyze the following metrics and other insight you can find in the dataset:\n",
        "\n",
        "- Survey response rate\n",
        "- Customer Satisfaction score (CSAT)\n",
        "- Customer Effort Score (CES)\n",
        "- Net Promoter Score (NPS)\n",
        "- Sentiment Analysis\n"
      ],
      "metadata": {
        "id": "ahQyKmVBw43f"
      }
    },
    {
      "cell_type": "markdown",
      "source": [
        "\n",
        "## Data Preparation"
      ],
      "metadata": {
        "id": "Iat2oAhAv3bk"
      }
    },
    {
      "cell_type": "code",
      "execution_count": 1,
      "metadata": {
        "id": "LOWYnwcmso5l"
      },
      "outputs": [],
      "source": [
        "import numpy as np\n",
        "import pandas as pd\n",
        "import os\n",
        "\n",
        "pd.options.display.max_columns = 999\n",
        "pd.options.display.float_format = \"{:.2f}\".format"
      ]
    },
    {
      "cell_type": "markdown",
      "source": [
        "### Access to Drive\n",
        "\n",
        "Write where you put the data in google drive."
      ],
      "metadata": {
        "id": "gFIM2K4Zsxq7"
      }
    },
    {
      "cell_type": "code",
      "source": [
        "from google.colab import drive\n",
        "drive.mount('/content/drive/')\n",
        "\n",
        "# Where is your data_path\n"
      ],
      "metadata": {
        "id": "xVRJsX3Us1Rc"
      },
      "execution_count": null,
      "outputs": []
    },
    {
      "cell_type": "code",
      "source": [
        "data = pd.read_csv('/content/assignment_ticket_system_review.csv')"
      ],
      "metadata": {
        "id": "3x8pvtGPtWzy"
      },
      "execution_count": 2,
      "outputs": []
    },
    {
      "cell_type": "markdown",
      "source": [
        "### Read Data\n",
        "\n",
        "Read the file **assignment_ticket_system_review.csv**"
      ],
      "metadata": {
        "id": "hzTVWDEZtAlk"
      }
    },
    {
      "cell_type": "code",
      "source": [
        "# Read Data\n",
        "data.head()"
      ],
      "metadata": {
        "id": "_vthpIWptEOj",
        "colab": {
          "base_uri": "https://localhost:8080/",
          "height": 365
        },
        "outputId": "53e7e50b-02e9-4fb8-ba0c-54807d94120a"
      },
      "execution_count": 8,
      "outputs": [
        {
          "output_type": "execute_result",
          "data": {
            "text/plain": [
              "  id_survey date_of_survey ticket_system  overall_rating  customer_service  \\\n",
              "0   T_02161     2024-11-20       Zendesk             NaN               NaN   \n",
              "1   T_00229     2024-10-06       Zendesk            3.00              4.00   \n",
              "2   T_04527     2024-12-26     Zoho Desk            5.00              5.00   \n",
              "3   T_03190     2024-12-08     Zoho Desk             NaN               NaN   \n",
              "4   T_00644     2024-10-17       Zendesk            5.00              3.00   \n",
              "\n",
              "   features  value_for_money  ease_of_use  likelihood_to_recommend  \\\n",
              "0       NaN              NaN          NaN                      NaN   \n",
              "1      3.00             3.00         2.00                     6.00   \n",
              "2      5.00             5.00         5.00                     8.00   \n",
              "3       NaN              NaN          NaN                      NaN   \n",
              "4      4.00             5.00         5.00                     6.00   \n",
              "\n",
              "                                        overall_text  \n",
              "0                                                NaN  \n",
              "1                       Customer tickets managements  \n",
              "2  After 6 months of using the Zoho desk, we shif...  \n",
              "3                                                NaN  \n",
              "4  Pros:Zendesk has always been one of the go-to ...  "
            ],
            "text/html": [
              "\n",
              "  <div id=\"df-8f3307e0-9d36-4230-9af7-b2c3d7aee4ba\" class=\"colab-df-container\">\n",
              "    <div>\n",
              "<style scoped>\n",
              "    .dataframe tbody tr th:only-of-type {\n",
              "        vertical-align: middle;\n",
              "    }\n",
              "\n",
              "    .dataframe tbody tr th {\n",
              "        vertical-align: top;\n",
              "    }\n",
              "\n",
              "    .dataframe thead th {\n",
              "        text-align: right;\n",
              "    }\n",
              "</style>\n",
              "<table border=\"1\" class=\"dataframe\">\n",
              "  <thead>\n",
              "    <tr style=\"text-align: right;\">\n",
              "      <th></th>\n",
              "      <th>id_survey</th>\n",
              "      <th>date_of_survey</th>\n",
              "      <th>ticket_system</th>\n",
              "      <th>overall_rating</th>\n",
              "      <th>customer_service</th>\n",
              "      <th>features</th>\n",
              "      <th>value_for_money</th>\n",
              "      <th>ease_of_use</th>\n",
              "      <th>likelihood_to_recommend</th>\n",
              "      <th>overall_text</th>\n",
              "    </tr>\n",
              "  </thead>\n",
              "  <tbody>\n",
              "    <tr>\n",
              "      <th>0</th>\n",
              "      <td>T_02161</td>\n",
              "      <td>2024-11-20</td>\n",
              "      <td>Zendesk</td>\n",
              "      <td>NaN</td>\n",
              "      <td>NaN</td>\n",
              "      <td>NaN</td>\n",
              "      <td>NaN</td>\n",
              "      <td>NaN</td>\n",
              "      <td>NaN</td>\n",
              "      <td>NaN</td>\n",
              "    </tr>\n",
              "    <tr>\n",
              "      <th>1</th>\n",
              "      <td>T_00229</td>\n",
              "      <td>2024-10-06</td>\n",
              "      <td>Zendesk</td>\n",
              "      <td>3.00</td>\n",
              "      <td>4.00</td>\n",
              "      <td>3.00</td>\n",
              "      <td>3.00</td>\n",
              "      <td>2.00</td>\n",
              "      <td>6.00</td>\n",
              "      <td>Customer tickets managements</td>\n",
              "    </tr>\n",
              "    <tr>\n",
              "      <th>2</th>\n",
              "      <td>T_04527</td>\n",
              "      <td>2024-12-26</td>\n",
              "      <td>Zoho Desk</td>\n",
              "      <td>5.00</td>\n",
              "      <td>5.00</td>\n",
              "      <td>5.00</td>\n",
              "      <td>5.00</td>\n",
              "      <td>5.00</td>\n",
              "      <td>8.00</td>\n",
              "      <td>After 6 months of using the Zoho desk, we shif...</td>\n",
              "    </tr>\n",
              "    <tr>\n",
              "      <th>3</th>\n",
              "      <td>T_03190</td>\n",
              "      <td>2024-12-08</td>\n",
              "      <td>Zoho Desk</td>\n",
              "      <td>NaN</td>\n",
              "      <td>NaN</td>\n",
              "      <td>NaN</td>\n",
              "      <td>NaN</td>\n",
              "      <td>NaN</td>\n",
              "      <td>NaN</td>\n",
              "      <td>NaN</td>\n",
              "    </tr>\n",
              "    <tr>\n",
              "      <th>4</th>\n",
              "      <td>T_00644</td>\n",
              "      <td>2024-10-17</td>\n",
              "      <td>Zendesk</td>\n",
              "      <td>5.00</td>\n",
              "      <td>3.00</td>\n",
              "      <td>4.00</td>\n",
              "      <td>5.00</td>\n",
              "      <td>5.00</td>\n",
              "      <td>6.00</td>\n",
              "      <td>Pros:Zendesk has always been one of the go-to ...</td>\n",
              "    </tr>\n",
              "  </tbody>\n",
              "</table>\n",
              "</div>\n",
              "    <div class=\"colab-df-buttons\">\n",
              "\n",
              "  <div class=\"colab-df-container\">\n",
              "    <button class=\"colab-df-convert\" onclick=\"convertToInteractive('df-8f3307e0-9d36-4230-9af7-b2c3d7aee4ba')\"\n",
              "            title=\"Convert this dataframe to an interactive table.\"\n",
              "            style=\"display:none;\">\n",
              "\n",
              "  <svg xmlns=\"http://www.w3.org/2000/svg\" height=\"24px\" viewBox=\"0 -960 960 960\">\n",
              "    <path d=\"M120-120v-720h720v720H120Zm60-500h600v-160H180v160Zm220 220h160v-160H400v160Zm0 220h160v-160H400v160ZM180-400h160v-160H180v160Zm440 0h160v-160H620v160ZM180-180h160v-160H180v160Zm440 0h160v-160H620v160Z\"/>\n",
              "  </svg>\n",
              "    </button>\n",
              "\n",
              "  <style>\n",
              "    .colab-df-container {\n",
              "      display:flex;\n",
              "      gap: 12px;\n",
              "    }\n",
              "\n",
              "    .colab-df-convert {\n",
              "      background-color: #E8F0FE;\n",
              "      border: none;\n",
              "      border-radius: 50%;\n",
              "      cursor: pointer;\n",
              "      display: none;\n",
              "      fill: #1967D2;\n",
              "      height: 32px;\n",
              "      padding: 0 0 0 0;\n",
              "      width: 32px;\n",
              "    }\n",
              "\n",
              "    .colab-df-convert:hover {\n",
              "      background-color: #E2EBFA;\n",
              "      box-shadow: 0px 1px 2px rgba(60, 64, 67, 0.3), 0px 1px 3px 1px rgba(60, 64, 67, 0.15);\n",
              "      fill: #174EA6;\n",
              "    }\n",
              "\n",
              "    .colab-df-buttons div {\n",
              "      margin-bottom: 4px;\n",
              "    }\n",
              "\n",
              "    [theme=dark] .colab-df-convert {\n",
              "      background-color: #3B4455;\n",
              "      fill: #D2E3FC;\n",
              "    }\n",
              "\n",
              "    [theme=dark] .colab-df-convert:hover {\n",
              "      background-color: #434B5C;\n",
              "      box-shadow: 0px 1px 3px 1px rgba(0, 0, 0, 0.15);\n",
              "      filter: drop-shadow(0px 1px 2px rgba(0, 0, 0, 0.3));\n",
              "      fill: #FFFFFF;\n",
              "    }\n",
              "  </style>\n",
              "\n",
              "    <script>\n",
              "      const buttonEl =\n",
              "        document.querySelector('#df-8f3307e0-9d36-4230-9af7-b2c3d7aee4ba button.colab-df-convert');\n",
              "      buttonEl.style.display =\n",
              "        google.colab.kernel.accessAllowed ? 'block' : 'none';\n",
              "\n",
              "      async function convertToInteractive(key) {\n",
              "        const element = document.querySelector('#df-8f3307e0-9d36-4230-9af7-b2c3d7aee4ba');\n",
              "        const dataTable =\n",
              "          await google.colab.kernel.invokeFunction('convertToInteractive',\n",
              "                                                    [key], {});\n",
              "        if (!dataTable) return;\n",
              "\n",
              "        const docLinkHtml = 'Like what you see? Visit the ' +\n",
              "          '<a target=\"_blank\" href=https://colab.research.google.com/notebooks/data_table.ipynb>data table notebook</a>'\n",
              "          + ' to learn more about interactive tables.';\n",
              "        element.innerHTML = '';\n",
              "        dataTable['output_type'] = 'display_data';\n",
              "        await google.colab.output.renderOutput(dataTable, element);\n",
              "        const docLink = document.createElement('div');\n",
              "        docLink.innerHTML = docLinkHtml;\n",
              "        element.appendChild(docLink);\n",
              "      }\n",
              "    </script>\n",
              "  </div>\n",
              "\n",
              "\n",
              "    <div id=\"df-6e2f9715-7db8-4820-bd5b-5806a86e3510\">\n",
              "      <button class=\"colab-df-quickchart\" onclick=\"quickchart('df-6e2f9715-7db8-4820-bd5b-5806a86e3510')\"\n",
              "                title=\"Suggest charts\"\n",
              "                style=\"display:none;\">\n",
              "\n",
              "<svg xmlns=\"http://www.w3.org/2000/svg\" height=\"24px\"viewBox=\"0 0 24 24\"\n",
              "     width=\"24px\">\n",
              "    <g>\n",
              "        <path d=\"M19 3H5c-1.1 0-2 .9-2 2v14c0 1.1.9 2 2 2h14c1.1 0 2-.9 2-2V5c0-1.1-.9-2-2-2zM9 17H7v-7h2v7zm4 0h-2V7h2v10zm4 0h-2v-4h2v4z\"/>\n",
              "    </g>\n",
              "</svg>\n",
              "      </button>\n",
              "\n",
              "<style>\n",
              "  .colab-df-quickchart {\n",
              "      --bg-color: #E8F0FE;\n",
              "      --fill-color: #1967D2;\n",
              "      --hover-bg-color: #E2EBFA;\n",
              "      --hover-fill-color: #174EA6;\n",
              "      --disabled-fill-color: #AAA;\n",
              "      --disabled-bg-color: #DDD;\n",
              "  }\n",
              "\n",
              "  [theme=dark] .colab-df-quickchart {\n",
              "      --bg-color: #3B4455;\n",
              "      --fill-color: #D2E3FC;\n",
              "      --hover-bg-color: #434B5C;\n",
              "      --hover-fill-color: #FFFFFF;\n",
              "      --disabled-bg-color: #3B4455;\n",
              "      --disabled-fill-color: #666;\n",
              "  }\n",
              "\n",
              "  .colab-df-quickchart {\n",
              "    background-color: var(--bg-color);\n",
              "    border: none;\n",
              "    border-radius: 50%;\n",
              "    cursor: pointer;\n",
              "    display: none;\n",
              "    fill: var(--fill-color);\n",
              "    height: 32px;\n",
              "    padding: 0;\n",
              "    width: 32px;\n",
              "  }\n",
              "\n",
              "  .colab-df-quickchart:hover {\n",
              "    background-color: var(--hover-bg-color);\n",
              "    box-shadow: 0 1px 2px rgba(60, 64, 67, 0.3), 0 1px 3px 1px rgba(60, 64, 67, 0.15);\n",
              "    fill: var(--button-hover-fill-color);\n",
              "  }\n",
              "\n",
              "  .colab-df-quickchart-complete:disabled,\n",
              "  .colab-df-quickchart-complete:disabled:hover {\n",
              "    background-color: var(--disabled-bg-color);\n",
              "    fill: var(--disabled-fill-color);\n",
              "    box-shadow: none;\n",
              "  }\n",
              "\n",
              "  .colab-df-spinner {\n",
              "    border: 2px solid var(--fill-color);\n",
              "    border-color: transparent;\n",
              "    border-bottom-color: var(--fill-color);\n",
              "    animation:\n",
              "      spin 1s steps(1) infinite;\n",
              "  }\n",
              "\n",
              "  @keyframes spin {\n",
              "    0% {\n",
              "      border-color: transparent;\n",
              "      border-bottom-color: var(--fill-color);\n",
              "      border-left-color: var(--fill-color);\n",
              "    }\n",
              "    20% {\n",
              "      border-color: transparent;\n",
              "      border-left-color: var(--fill-color);\n",
              "      border-top-color: var(--fill-color);\n",
              "    }\n",
              "    30% {\n",
              "      border-color: transparent;\n",
              "      border-left-color: var(--fill-color);\n",
              "      border-top-color: var(--fill-color);\n",
              "      border-right-color: var(--fill-color);\n",
              "    }\n",
              "    40% {\n",
              "      border-color: transparent;\n",
              "      border-right-color: var(--fill-color);\n",
              "      border-top-color: var(--fill-color);\n",
              "    }\n",
              "    60% {\n",
              "      border-color: transparent;\n",
              "      border-right-color: var(--fill-color);\n",
              "    }\n",
              "    80% {\n",
              "      border-color: transparent;\n",
              "      border-right-color: var(--fill-color);\n",
              "      border-bottom-color: var(--fill-color);\n",
              "    }\n",
              "    90% {\n",
              "      border-color: transparent;\n",
              "      border-bottom-color: var(--fill-color);\n",
              "    }\n",
              "  }\n",
              "</style>\n",
              "\n",
              "      <script>\n",
              "        async function quickchart(key) {\n",
              "          const quickchartButtonEl =\n",
              "            document.querySelector('#' + key + ' button');\n",
              "          quickchartButtonEl.disabled = true;  // To prevent multiple clicks.\n",
              "          quickchartButtonEl.classList.add('colab-df-spinner');\n",
              "          try {\n",
              "            const charts = await google.colab.kernel.invokeFunction(\n",
              "                'suggestCharts', [key], {});\n",
              "          } catch (error) {\n",
              "            console.error('Error during call to suggestCharts:', error);\n",
              "          }\n",
              "          quickchartButtonEl.classList.remove('colab-df-spinner');\n",
              "          quickchartButtonEl.classList.add('colab-df-quickchart-complete');\n",
              "        }\n",
              "        (() => {\n",
              "          let quickchartButtonEl =\n",
              "            document.querySelector('#df-6e2f9715-7db8-4820-bd5b-5806a86e3510 button');\n",
              "          quickchartButtonEl.style.display =\n",
              "            google.colab.kernel.accessAllowed ? 'block' : 'none';\n",
              "        })();\n",
              "      </script>\n",
              "    </div>\n",
              "\n",
              "    </div>\n",
              "  </div>\n"
            ],
            "application/vnd.google.colaboratory.intrinsic+json": {
              "type": "dataframe",
              "variable_name": "data",
              "summary": "{\n  \"name\": \"data\",\n  \"rows\": 1462,\n  \"fields\": [\n    {\n      \"column\": \"id_survey\",\n      \"properties\": {\n        \"dtype\": \"string\",\n        \"num_unique_values\": 1462,\n        \"samples\": [\n          \"T_04062\",\n          \"T_03045\",\n          \"T_03547\"\n        ],\n        \"semantic_type\": \"\",\n        \"description\": \"\"\n      }\n    },\n    {\n      \"column\": \"date_of_survey\",\n      \"properties\": {\n        \"dtype\": \"date\",\n        \"min\": \"2024-10-01 00:00:00\",\n        \"max\": \"2024-12-30 00:00:00\",\n        \"num_unique_values\": 90,\n        \"samples\": [\n          \"2024-10-23 00:00:00\",\n          \"2024-11-06 00:00:00\",\n          \"2024-12-25 00:00:00\"\n        ],\n        \"semantic_type\": \"\",\n        \"description\": \"\"\n      }\n    },\n    {\n      \"column\": \"ticket_system\",\n      \"properties\": {\n        \"dtype\": \"category\",\n        \"num_unique_values\": 6,\n        \"samples\": [\n          \"Zendesk\",\n          \"Zoho Desk\",\n          \"ServiceNow\"\n        ],\n        \"semantic_type\": \"\",\n        \"description\": \"\"\n      }\n    },\n    {\n      \"column\": \"overall_rating\",\n      \"properties\": {\n        \"dtype\": \"number\",\n        \"std\": 0.6360686958755708,\n        \"min\": 1.0,\n        \"max\": 5.0,\n        \"num_unique_values\": 5,\n        \"samples\": [\n          5.0,\n          2.0,\n          4.0\n        ],\n        \"semantic_type\": \"\",\n        \"description\": \"\"\n      }\n    },\n    {\n      \"column\": \"customer_service\",\n      \"properties\": {\n        \"dtype\": \"number\",\n        \"std\": 1.1351845787327275,\n        \"min\": -1.0,\n        \"max\": 5.0,\n        \"num_unique_values\": 7,\n        \"samples\": [\n          4.0,\n          5.0,\n          -1.0\n        ],\n        \"semantic_type\": \"\",\n        \"description\": \"\"\n      }\n    },\n    {\n      \"column\": \"features\",\n      \"properties\": {\n        \"dtype\": \"number\",\n        \"std\": 0.7216204925204112,\n        \"min\": 1.0,\n        \"max\": 5.0,\n        \"num_unique_values\": 5,\n        \"samples\": [\n          5.0,\n          1.0,\n          4.0\n        ],\n        \"semantic_type\": \"\",\n        \"description\": \"\"\n      }\n    },\n    {\n      \"column\": \"value_for_money\",\n      \"properties\": {\n        \"dtype\": \"number\",\n        \"std\": 0.822243869820621,\n        \"min\": 1.0,\n        \"max\": 5.0,\n        \"num_unique_values\": 5,\n        \"samples\": [\n          5.0,\n          1.0,\n          4.0\n        ],\n        \"semantic_type\": \"\",\n        \"description\": \"\"\n      }\n    },\n    {\n      \"column\": \"ease_of_use\",\n      \"properties\": {\n        \"dtype\": \"number\",\n        \"std\": 0.7346529967647698,\n        \"min\": 1.0,\n        \"max\": 5.0,\n        \"num_unique_values\": 5,\n        \"samples\": [\n          5.0,\n          1.0,\n          4.0\n        ],\n        \"semantic_type\": \"\",\n        \"description\": \"\"\n      }\n    },\n    {\n      \"column\": \"likelihood_to_recommend\",\n      \"properties\": {\n        \"dtype\": \"number\",\n        \"std\": 1.719813428162628,\n        \"min\": -1.0,\n        \"max\": 10.0,\n        \"num_unique_values\": 12,\n        \"samples\": [\n          0.0,\n          1.0,\n          6.0\n        ],\n        \"semantic_type\": \"\",\n        \"description\": \"\"\n      }\n    },\n    {\n      \"column\": \"overall_text\",\n      \"properties\": {\n        \"dtype\": \"string\",\n        \"num_unique_values\": 787,\n        \"samples\": [\n          \"Follow ups + Customer services management\",\n          \"systematic management of customer tickets as well as internal tasks.\",\n          \"Pros:Ease of use, Friendly user interface(UI)\"\n        ],\n        \"semantic_type\": \"\",\n        \"description\": \"\"\n      }\n    }\n  ]\n}"
            }
          },
          "metadata": {},
          "execution_count": 8
        }
      ]
    },
    {
      "cell_type": "markdown",
      "source": [
        "The following is the dictionary for the data, survey is only valid if all of the survey questions and text review is not blank (null):\n",
        "\n",
        "**General Information**\n",
        "- id_survey: identifier for each survey\n",
        "- date_of_survey: date of survey taken\n",
        "- ticket_system: The name of the ticket system being reviewed (e.g. Zoho Desk)\n",
        "\n",
        "**Survey Questions**\n",
        "- overall_rating: The overall satisfaction rating given by the reviewer, ranging from 1 to 5\n",
        "- customer_service: The satisfaction rating for the customer service provided by the ticket system, ranging from 1 to 5.\n",
        "- features: The satisfaction rating for the features of the ticket system, ranging from 1 to 5\n",
        "- value_for_money: The satisfaction rating for the value for money provided by the ticket system, ranging from 1 to 5\n",
        "- ease_of_use: The rating for how easy the ticket system is to use, ranging from 1 to 5\n",
        "- likelihood_to_recommend: The likelihood that the reviewer would recommend the ticket system to others, ranging from 1 to 10\n",
        "- overall_text: The full text of the overall review, providing detailed feedback on the ticket system.\n"
      ],
      "metadata": {
        "id": "JwcScuOJtpx9"
      }
    },
    {
      "cell_type": "code",
      "source": [
        "# Check the type of data\n",
        "data.info()"
      ],
      "metadata": {
        "id": "fBIF-6T3tVnc",
        "colab": {
          "base_uri": "https://localhost:8080/"
        },
        "outputId": "c35f3cab-cac5-4cde-820a-782c892a7c35"
      },
      "execution_count": 5,
      "outputs": [
        {
          "output_type": "stream",
          "name": "stdout",
          "text": [
            "<class 'pandas.core.frame.DataFrame'>\n",
            "RangeIndex: 1462 entries, 0 to 1461\n",
            "Data columns (total 10 columns):\n",
            " #   Column                   Non-Null Count  Dtype  \n",
            "---  ------                   --------------  -----  \n",
            " 0   id_survey                1462 non-null   object \n",
            " 1   date_of_survey           1462 non-null   object \n",
            " 2   ticket_system            1462 non-null   object \n",
            " 3   overall_rating           787 non-null    float64\n",
            " 4   customer_service         787 non-null    float64\n",
            " 5   features                 787 non-null    float64\n",
            " 6   value_for_money          787 non-null    float64\n",
            " 7   ease_of_use              787 non-null    float64\n",
            " 8   likelihood_to_recommend  787 non-null    float64\n",
            " 9   overall_text             787 non-null    object \n",
            "dtypes: float64(6), object(4)\n",
            "memory usage: 114.3+ KB\n"
          ]
        }
      ]
    },
    {
      "cell_type": "markdown",
      "source": [
        "### Data Cleansing\n",
        "\n",
        "Convert the date column into proper date_time format."
      ],
      "metadata": {
        "id": "jMx3NFjnurX3"
      }
    },
    {
      "cell_type": "code",
      "source": [
        "# Convert data type\n",
        "data['date_of_survey'] = pd.to_datetime(data['date_of_survey'], format='%Y-%m-%d')"
      ],
      "metadata": {
        "id": "Urs03Ufyul2i"
      },
      "execution_count": 7,
      "outputs": []
    },
    {
      "cell_type": "code",
      "source": [
        "# Read Data\n",
        "data.head()"
      ],
      "metadata": {
        "colab": {
          "base_uri": "https://localhost:8080/",
          "height": 365
        },
        "id": "LCjI5l_xvVvY",
        "outputId": "3daa6252-b89f-4da1-affa-2bfee3100d42"
      },
      "execution_count": 9,
      "outputs": [
        {
          "output_type": "execute_result",
          "data": {
            "text/plain": [
              "  id_survey date_of_survey ticket_system  overall_rating  customer_service  \\\n",
              "0   T_02161     2024-11-20       Zendesk             NaN               NaN   \n",
              "1   T_00229     2024-10-06       Zendesk            3.00              4.00   \n",
              "2   T_04527     2024-12-26     Zoho Desk            5.00              5.00   \n",
              "3   T_03190     2024-12-08     Zoho Desk             NaN               NaN   \n",
              "4   T_00644     2024-10-17       Zendesk            5.00              3.00   \n",
              "\n",
              "   features  value_for_money  ease_of_use  likelihood_to_recommend  \\\n",
              "0       NaN              NaN          NaN                      NaN   \n",
              "1      3.00             3.00         2.00                     6.00   \n",
              "2      5.00             5.00         5.00                     8.00   \n",
              "3       NaN              NaN          NaN                      NaN   \n",
              "4      4.00             5.00         5.00                     6.00   \n",
              "\n",
              "                                        overall_text  \n",
              "0                                                NaN  \n",
              "1                       Customer tickets managements  \n",
              "2  After 6 months of using the Zoho desk, we shif...  \n",
              "3                                                NaN  \n",
              "4  Pros:Zendesk has always been one of the go-to ...  "
            ],
            "text/html": [
              "\n",
              "  <div id=\"df-7a9700bf-e185-49ab-a5fc-03c3bbb8ce6d\" class=\"colab-df-container\">\n",
              "    <div>\n",
              "<style scoped>\n",
              "    .dataframe tbody tr th:only-of-type {\n",
              "        vertical-align: middle;\n",
              "    }\n",
              "\n",
              "    .dataframe tbody tr th {\n",
              "        vertical-align: top;\n",
              "    }\n",
              "\n",
              "    .dataframe thead th {\n",
              "        text-align: right;\n",
              "    }\n",
              "</style>\n",
              "<table border=\"1\" class=\"dataframe\">\n",
              "  <thead>\n",
              "    <tr style=\"text-align: right;\">\n",
              "      <th></th>\n",
              "      <th>id_survey</th>\n",
              "      <th>date_of_survey</th>\n",
              "      <th>ticket_system</th>\n",
              "      <th>overall_rating</th>\n",
              "      <th>customer_service</th>\n",
              "      <th>features</th>\n",
              "      <th>value_for_money</th>\n",
              "      <th>ease_of_use</th>\n",
              "      <th>likelihood_to_recommend</th>\n",
              "      <th>overall_text</th>\n",
              "    </tr>\n",
              "  </thead>\n",
              "  <tbody>\n",
              "    <tr>\n",
              "      <th>0</th>\n",
              "      <td>T_02161</td>\n",
              "      <td>2024-11-20</td>\n",
              "      <td>Zendesk</td>\n",
              "      <td>NaN</td>\n",
              "      <td>NaN</td>\n",
              "      <td>NaN</td>\n",
              "      <td>NaN</td>\n",
              "      <td>NaN</td>\n",
              "      <td>NaN</td>\n",
              "      <td>NaN</td>\n",
              "    </tr>\n",
              "    <tr>\n",
              "      <th>1</th>\n",
              "      <td>T_00229</td>\n",
              "      <td>2024-10-06</td>\n",
              "      <td>Zendesk</td>\n",
              "      <td>3.00</td>\n",
              "      <td>4.00</td>\n",
              "      <td>3.00</td>\n",
              "      <td>3.00</td>\n",
              "      <td>2.00</td>\n",
              "      <td>6.00</td>\n",
              "      <td>Customer tickets managements</td>\n",
              "    </tr>\n",
              "    <tr>\n",
              "      <th>2</th>\n",
              "      <td>T_04527</td>\n",
              "      <td>2024-12-26</td>\n",
              "      <td>Zoho Desk</td>\n",
              "      <td>5.00</td>\n",
              "      <td>5.00</td>\n",
              "      <td>5.00</td>\n",
              "      <td>5.00</td>\n",
              "      <td>5.00</td>\n",
              "      <td>8.00</td>\n",
              "      <td>After 6 months of using the Zoho desk, we shif...</td>\n",
              "    </tr>\n",
              "    <tr>\n",
              "      <th>3</th>\n",
              "      <td>T_03190</td>\n",
              "      <td>2024-12-08</td>\n",
              "      <td>Zoho Desk</td>\n",
              "      <td>NaN</td>\n",
              "      <td>NaN</td>\n",
              "      <td>NaN</td>\n",
              "      <td>NaN</td>\n",
              "      <td>NaN</td>\n",
              "      <td>NaN</td>\n",
              "      <td>NaN</td>\n",
              "    </tr>\n",
              "    <tr>\n",
              "      <th>4</th>\n",
              "      <td>T_00644</td>\n",
              "      <td>2024-10-17</td>\n",
              "      <td>Zendesk</td>\n",
              "      <td>5.00</td>\n",
              "      <td>3.00</td>\n",
              "      <td>4.00</td>\n",
              "      <td>5.00</td>\n",
              "      <td>5.00</td>\n",
              "      <td>6.00</td>\n",
              "      <td>Pros:Zendesk has always been one of the go-to ...</td>\n",
              "    </tr>\n",
              "  </tbody>\n",
              "</table>\n",
              "</div>\n",
              "    <div class=\"colab-df-buttons\">\n",
              "\n",
              "  <div class=\"colab-df-container\">\n",
              "    <button class=\"colab-df-convert\" onclick=\"convertToInteractive('df-7a9700bf-e185-49ab-a5fc-03c3bbb8ce6d')\"\n",
              "            title=\"Convert this dataframe to an interactive table.\"\n",
              "            style=\"display:none;\">\n",
              "\n",
              "  <svg xmlns=\"http://www.w3.org/2000/svg\" height=\"24px\" viewBox=\"0 -960 960 960\">\n",
              "    <path d=\"M120-120v-720h720v720H120Zm60-500h600v-160H180v160Zm220 220h160v-160H400v160Zm0 220h160v-160H400v160ZM180-400h160v-160H180v160Zm440 0h160v-160H620v160ZM180-180h160v-160H180v160Zm440 0h160v-160H620v160Z\"/>\n",
              "  </svg>\n",
              "    </button>\n",
              "\n",
              "  <style>\n",
              "    .colab-df-container {\n",
              "      display:flex;\n",
              "      gap: 12px;\n",
              "    }\n",
              "\n",
              "    .colab-df-convert {\n",
              "      background-color: #E8F0FE;\n",
              "      border: none;\n",
              "      border-radius: 50%;\n",
              "      cursor: pointer;\n",
              "      display: none;\n",
              "      fill: #1967D2;\n",
              "      height: 32px;\n",
              "      padding: 0 0 0 0;\n",
              "      width: 32px;\n",
              "    }\n",
              "\n",
              "    .colab-df-convert:hover {\n",
              "      background-color: #E2EBFA;\n",
              "      box-shadow: 0px 1px 2px rgba(60, 64, 67, 0.3), 0px 1px 3px 1px rgba(60, 64, 67, 0.15);\n",
              "      fill: #174EA6;\n",
              "    }\n",
              "\n",
              "    .colab-df-buttons div {\n",
              "      margin-bottom: 4px;\n",
              "    }\n",
              "\n",
              "    [theme=dark] .colab-df-convert {\n",
              "      background-color: #3B4455;\n",
              "      fill: #D2E3FC;\n",
              "    }\n",
              "\n",
              "    [theme=dark] .colab-df-convert:hover {\n",
              "      background-color: #434B5C;\n",
              "      box-shadow: 0px 1px 3px 1px rgba(0, 0, 0, 0.15);\n",
              "      filter: drop-shadow(0px 1px 2px rgba(0, 0, 0, 0.3));\n",
              "      fill: #FFFFFF;\n",
              "    }\n",
              "  </style>\n",
              "\n",
              "    <script>\n",
              "      const buttonEl =\n",
              "        document.querySelector('#df-7a9700bf-e185-49ab-a5fc-03c3bbb8ce6d button.colab-df-convert');\n",
              "      buttonEl.style.display =\n",
              "        google.colab.kernel.accessAllowed ? 'block' : 'none';\n",
              "\n",
              "      async function convertToInteractive(key) {\n",
              "        const element = document.querySelector('#df-7a9700bf-e185-49ab-a5fc-03c3bbb8ce6d');\n",
              "        const dataTable =\n",
              "          await google.colab.kernel.invokeFunction('convertToInteractive',\n",
              "                                                    [key], {});\n",
              "        if (!dataTable) return;\n",
              "\n",
              "        const docLinkHtml = 'Like what you see? Visit the ' +\n",
              "          '<a target=\"_blank\" href=https://colab.research.google.com/notebooks/data_table.ipynb>data table notebook</a>'\n",
              "          + ' to learn more about interactive tables.';\n",
              "        element.innerHTML = '';\n",
              "        dataTable['output_type'] = 'display_data';\n",
              "        await google.colab.output.renderOutput(dataTable, element);\n",
              "        const docLink = document.createElement('div');\n",
              "        docLink.innerHTML = docLinkHtml;\n",
              "        element.appendChild(docLink);\n",
              "      }\n",
              "    </script>\n",
              "  </div>\n",
              "\n",
              "\n",
              "    <div id=\"df-3bcf267d-834f-4fb2-a4ec-2ebf43e04895\">\n",
              "      <button class=\"colab-df-quickchart\" onclick=\"quickchart('df-3bcf267d-834f-4fb2-a4ec-2ebf43e04895')\"\n",
              "                title=\"Suggest charts\"\n",
              "                style=\"display:none;\">\n",
              "\n",
              "<svg xmlns=\"http://www.w3.org/2000/svg\" height=\"24px\"viewBox=\"0 0 24 24\"\n",
              "     width=\"24px\">\n",
              "    <g>\n",
              "        <path d=\"M19 3H5c-1.1 0-2 .9-2 2v14c0 1.1.9 2 2 2h14c1.1 0 2-.9 2-2V5c0-1.1-.9-2-2-2zM9 17H7v-7h2v7zm4 0h-2V7h2v10zm4 0h-2v-4h2v4z\"/>\n",
              "    </g>\n",
              "</svg>\n",
              "      </button>\n",
              "\n",
              "<style>\n",
              "  .colab-df-quickchart {\n",
              "      --bg-color: #E8F0FE;\n",
              "      --fill-color: #1967D2;\n",
              "      --hover-bg-color: #E2EBFA;\n",
              "      --hover-fill-color: #174EA6;\n",
              "      --disabled-fill-color: #AAA;\n",
              "      --disabled-bg-color: #DDD;\n",
              "  }\n",
              "\n",
              "  [theme=dark] .colab-df-quickchart {\n",
              "      --bg-color: #3B4455;\n",
              "      --fill-color: #D2E3FC;\n",
              "      --hover-bg-color: #434B5C;\n",
              "      --hover-fill-color: #FFFFFF;\n",
              "      --disabled-bg-color: #3B4455;\n",
              "      --disabled-fill-color: #666;\n",
              "  }\n",
              "\n",
              "  .colab-df-quickchart {\n",
              "    background-color: var(--bg-color);\n",
              "    border: none;\n",
              "    border-radius: 50%;\n",
              "    cursor: pointer;\n",
              "    display: none;\n",
              "    fill: var(--fill-color);\n",
              "    height: 32px;\n",
              "    padding: 0;\n",
              "    width: 32px;\n",
              "  }\n",
              "\n",
              "  .colab-df-quickchart:hover {\n",
              "    background-color: var(--hover-bg-color);\n",
              "    box-shadow: 0 1px 2px rgba(60, 64, 67, 0.3), 0 1px 3px 1px rgba(60, 64, 67, 0.15);\n",
              "    fill: var(--button-hover-fill-color);\n",
              "  }\n",
              "\n",
              "  .colab-df-quickchart-complete:disabled,\n",
              "  .colab-df-quickchart-complete:disabled:hover {\n",
              "    background-color: var(--disabled-bg-color);\n",
              "    fill: var(--disabled-fill-color);\n",
              "    box-shadow: none;\n",
              "  }\n",
              "\n",
              "  .colab-df-spinner {\n",
              "    border: 2px solid var(--fill-color);\n",
              "    border-color: transparent;\n",
              "    border-bottom-color: var(--fill-color);\n",
              "    animation:\n",
              "      spin 1s steps(1) infinite;\n",
              "  }\n",
              "\n",
              "  @keyframes spin {\n",
              "    0% {\n",
              "      border-color: transparent;\n",
              "      border-bottom-color: var(--fill-color);\n",
              "      border-left-color: var(--fill-color);\n",
              "    }\n",
              "    20% {\n",
              "      border-color: transparent;\n",
              "      border-left-color: var(--fill-color);\n",
              "      border-top-color: var(--fill-color);\n",
              "    }\n",
              "    30% {\n",
              "      border-color: transparent;\n",
              "      border-left-color: var(--fill-color);\n",
              "      border-top-color: var(--fill-color);\n",
              "      border-right-color: var(--fill-color);\n",
              "    }\n",
              "    40% {\n",
              "      border-color: transparent;\n",
              "      border-right-color: var(--fill-color);\n",
              "      border-top-color: var(--fill-color);\n",
              "    }\n",
              "    60% {\n",
              "      border-color: transparent;\n",
              "      border-right-color: var(--fill-color);\n",
              "    }\n",
              "    80% {\n",
              "      border-color: transparent;\n",
              "      border-right-color: var(--fill-color);\n",
              "      border-bottom-color: var(--fill-color);\n",
              "    }\n",
              "    90% {\n",
              "      border-color: transparent;\n",
              "      border-bottom-color: var(--fill-color);\n",
              "    }\n",
              "  }\n",
              "</style>\n",
              "\n",
              "      <script>\n",
              "        async function quickchart(key) {\n",
              "          const quickchartButtonEl =\n",
              "            document.querySelector('#' + key + ' button');\n",
              "          quickchartButtonEl.disabled = true;  // To prevent multiple clicks.\n",
              "          quickchartButtonEl.classList.add('colab-df-spinner');\n",
              "          try {\n",
              "            const charts = await google.colab.kernel.invokeFunction(\n",
              "                'suggestCharts', [key], {});\n",
              "          } catch (error) {\n",
              "            console.error('Error during call to suggestCharts:', error);\n",
              "          }\n",
              "          quickchartButtonEl.classList.remove('colab-df-spinner');\n",
              "          quickchartButtonEl.classList.add('colab-df-quickchart-complete');\n",
              "        }\n",
              "        (() => {\n",
              "          let quickchartButtonEl =\n",
              "            document.querySelector('#df-3bcf267d-834f-4fb2-a4ec-2ebf43e04895 button');\n",
              "          quickchartButtonEl.style.display =\n",
              "            google.colab.kernel.accessAllowed ? 'block' : 'none';\n",
              "        })();\n",
              "      </script>\n",
              "    </div>\n",
              "\n",
              "    </div>\n",
              "  </div>\n"
            ],
            "application/vnd.google.colaboratory.intrinsic+json": {
              "type": "dataframe",
              "variable_name": "data",
              "summary": "{\n  \"name\": \"data\",\n  \"rows\": 1462,\n  \"fields\": [\n    {\n      \"column\": \"id_survey\",\n      \"properties\": {\n        \"dtype\": \"string\",\n        \"num_unique_values\": 1462,\n        \"samples\": [\n          \"T_04062\",\n          \"T_03045\",\n          \"T_03547\"\n        ],\n        \"semantic_type\": \"\",\n        \"description\": \"\"\n      }\n    },\n    {\n      \"column\": \"date_of_survey\",\n      \"properties\": {\n        \"dtype\": \"date\",\n        \"min\": \"2024-10-01 00:00:00\",\n        \"max\": \"2024-12-30 00:00:00\",\n        \"num_unique_values\": 90,\n        \"samples\": [\n          \"2024-10-23 00:00:00\",\n          \"2024-11-06 00:00:00\",\n          \"2024-12-25 00:00:00\"\n        ],\n        \"semantic_type\": \"\",\n        \"description\": \"\"\n      }\n    },\n    {\n      \"column\": \"ticket_system\",\n      \"properties\": {\n        \"dtype\": \"category\",\n        \"num_unique_values\": 6,\n        \"samples\": [\n          \"Zendesk\",\n          \"Zoho Desk\",\n          \"ServiceNow\"\n        ],\n        \"semantic_type\": \"\",\n        \"description\": \"\"\n      }\n    },\n    {\n      \"column\": \"overall_rating\",\n      \"properties\": {\n        \"dtype\": \"number\",\n        \"std\": 0.6360686958755708,\n        \"min\": 1.0,\n        \"max\": 5.0,\n        \"num_unique_values\": 5,\n        \"samples\": [\n          5.0,\n          2.0,\n          4.0\n        ],\n        \"semantic_type\": \"\",\n        \"description\": \"\"\n      }\n    },\n    {\n      \"column\": \"customer_service\",\n      \"properties\": {\n        \"dtype\": \"number\",\n        \"std\": 1.1351845787327275,\n        \"min\": -1.0,\n        \"max\": 5.0,\n        \"num_unique_values\": 7,\n        \"samples\": [\n          4.0,\n          5.0,\n          -1.0\n        ],\n        \"semantic_type\": \"\",\n        \"description\": \"\"\n      }\n    },\n    {\n      \"column\": \"features\",\n      \"properties\": {\n        \"dtype\": \"number\",\n        \"std\": 0.7216204925204112,\n        \"min\": 1.0,\n        \"max\": 5.0,\n        \"num_unique_values\": 5,\n        \"samples\": [\n          5.0,\n          1.0,\n          4.0\n        ],\n        \"semantic_type\": \"\",\n        \"description\": \"\"\n      }\n    },\n    {\n      \"column\": \"value_for_money\",\n      \"properties\": {\n        \"dtype\": \"number\",\n        \"std\": 0.822243869820621,\n        \"min\": 1.0,\n        \"max\": 5.0,\n        \"num_unique_values\": 5,\n        \"samples\": [\n          5.0,\n          1.0,\n          4.0\n        ],\n        \"semantic_type\": \"\",\n        \"description\": \"\"\n      }\n    },\n    {\n      \"column\": \"ease_of_use\",\n      \"properties\": {\n        \"dtype\": \"number\",\n        \"std\": 0.7346529967647698,\n        \"min\": 1.0,\n        \"max\": 5.0,\n        \"num_unique_values\": 5,\n        \"samples\": [\n          5.0,\n          1.0,\n          4.0\n        ],\n        \"semantic_type\": \"\",\n        \"description\": \"\"\n      }\n    },\n    {\n      \"column\": \"likelihood_to_recommend\",\n      \"properties\": {\n        \"dtype\": \"number\",\n        \"std\": 1.719813428162628,\n        \"min\": -1.0,\n        \"max\": 10.0,\n        \"num_unique_values\": 12,\n        \"samples\": [\n          0.0,\n          1.0,\n          6.0\n        ],\n        \"semantic_type\": \"\",\n        \"description\": \"\"\n      }\n    },\n    {\n      \"column\": \"overall_text\",\n      \"properties\": {\n        \"dtype\": \"string\",\n        \"num_unique_values\": 787,\n        \"samples\": [\n          \"Follow ups + Customer services management\",\n          \"systematic management of customer tickets as well as internal tasks.\",\n          \"Pros:Ease of use, Friendly user interface(UI)\"\n        ],\n        \"semantic_type\": \"\",\n        \"description\": \"\"\n      }\n    }\n  ]\n}"
            }
          },
          "metadata": {},
          "execution_count": 9
        }
      ]
    },
    {
      "cell_type": "markdown",
      "source": [
        "## Survey Analysis"
      ],
      "metadata": {
        "id": "wJMOr-C1vm8h"
      }
    },
    {
      "cell_type": "markdown",
      "source": [
        "### Response Rate\n",
        "\n",
        "Start by analyzing how many customers has filled the survey, indicated by whether the overall_rating is not blank."
      ],
      "metadata": {
        "id": "fPeVsjWJ9JdG"
      }
    },
    {
      "cell_type": "code",
      "source": [
        "# How many customer responded to the survey?\n",
        "responded_customers_count = data[data['overall_rating'].notna()].shape[0]\n",
        "\n",
        "print(f\"Jumlah pelanggan yang mengisi survei: {num_customers_responded}\")"
      ],
      "metadata": {
        "id": "MwfE7Isuu8VO",
        "colab": {
          "base_uri": "https://localhost:8080/"
        },
        "outputId": "a371e2e8-0445-4074-d252-7a3e3fe13db5"
      },
      "execution_count": 16,
      "outputs": [
        {
          "output_type": "stream",
          "name": "stdout",
          "text": [
            "Jumlah pelanggan yang mengisi survei: 787\n"
          ]
        }
      ]
    },
    {
      "cell_type": "markdown",
      "source": [
        "Create a new dataframe that consists only of those who have responded the survey to simplify calculating the CSAT, CES, and NPS Score."
      ],
      "metadata": {
        "id": "t5Kh4lR2Su4n"
      }
    },
    {
      "cell_type": "code",
      "source": [
        "# Responded Customer\n",
        "responded_customers_df = data[data['overall_rating'].notna()]\n",
        "responded_customers_df.head()"
      ],
      "metadata": {
        "id": "2f4T3m0cS5G5",
        "colab": {
          "base_uri": "https://localhost:8080/",
          "height": 487
        },
        "outputId": "d0a0634f-bc34-4f83-d3ae-e5c8cea71682"
      },
      "execution_count": 18,
      "outputs": [
        {
          "output_type": "execute_result",
          "data": {
            "text/plain": [
              "  id_survey date_of_survey ticket_system  overall_rating  customer_service  \\\n",
              "1   T_00229     2024-10-06       Zendesk            3.00              4.00   \n",
              "2   T_04527     2024-12-26     Zoho Desk            5.00              5.00   \n",
              "4   T_00644     2024-10-17       Zendesk            5.00              3.00   \n",
              "6   T_04682     2024-12-28     Zoho Desk            5.00              4.00   \n",
              "8   T_01238     2024-11-02     Freshdesk            4.00              4.00   \n",
              "\n",
              "   features  value_for_money  ease_of_use  likelihood_to_recommend  \\\n",
              "1      3.00             3.00         2.00                     6.00   \n",
              "2      5.00             5.00         5.00                     8.00   \n",
              "4      4.00             5.00         5.00                     6.00   \n",
              "6      5.00             5.00         5.00                     8.00   \n",
              "8      4.00             5.00         4.00                     8.00   \n",
              "\n",
              "                                        overall_text  \n",
              "1                       Customer tickets managements  \n",
              "2  After 6 months of using the Zoho desk, we shif...  \n",
              "4  Pros:Zendesk has always been one of the go-to ...  \n",
              "6  It has been very useful so far to integrate mu...  \n",
              "8  Pros:It's easy to use and very intuitive.We ha...  "
            ],
            "text/html": [
              "\n",
              "  <div id=\"df-56277fd1-c6ad-4d7c-9bc8-248c208c9334\" class=\"colab-df-container\">\n",
              "    <div>\n",
              "<style scoped>\n",
              "    .dataframe tbody tr th:only-of-type {\n",
              "        vertical-align: middle;\n",
              "    }\n",
              "\n",
              "    .dataframe tbody tr th {\n",
              "        vertical-align: top;\n",
              "    }\n",
              "\n",
              "    .dataframe thead th {\n",
              "        text-align: right;\n",
              "    }\n",
              "</style>\n",
              "<table border=\"1\" class=\"dataframe\">\n",
              "  <thead>\n",
              "    <tr style=\"text-align: right;\">\n",
              "      <th></th>\n",
              "      <th>id_survey</th>\n",
              "      <th>date_of_survey</th>\n",
              "      <th>ticket_system</th>\n",
              "      <th>overall_rating</th>\n",
              "      <th>customer_service</th>\n",
              "      <th>features</th>\n",
              "      <th>value_for_money</th>\n",
              "      <th>ease_of_use</th>\n",
              "      <th>likelihood_to_recommend</th>\n",
              "      <th>overall_text</th>\n",
              "    </tr>\n",
              "  </thead>\n",
              "  <tbody>\n",
              "    <tr>\n",
              "      <th>1</th>\n",
              "      <td>T_00229</td>\n",
              "      <td>2024-10-06</td>\n",
              "      <td>Zendesk</td>\n",
              "      <td>3.00</td>\n",
              "      <td>4.00</td>\n",
              "      <td>3.00</td>\n",
              "      <td>3.00</td>\n",
              "      <td>2.00</td>\n",
              "      <td>6.00</td>\n",
              "      <td>Customer tickets managements</td>\n",
              "    </tr>\n",
              "    <tr>\n",
              "      <th>2</th>\n",
              "      <td>T_04527</td>\n",
              "      <td>2024-12-26</td>\n",
              "      <td>Zoho Desk</td>\n",
              "      <td>5.00</td>\n",
              "      <td>5.00</td>\n",
              "      <td>5.00</td>\n",
              "      <td>5.00</td>\n",
              "      <td>5.00</td>\n",
              "      <td>8.00</td>\n",
              "      <td>After 6 months of using the Zoho desk, we shif...</td>\n",
              "    </tr>\n",
              "    <tr>\n",
              "      <th>4</th>\n",
              "      <td>T_00644</td>\n",
              "      <td>2024-10-17</td>\n",
              "      <td>Zendesk</td>\n",
              "      <td>5.00</td>\n",
              "      <td>3.00</td>\n",
              "      <td>4.00</td>\n",
              "      <td>5.00</td>\n",
              "      <td>5.00</td>\n",
              "      <td>6.00</td>\n",
              "      <td>Pros:Zendesk has always been one of the go-to ...</td>\n",
              "    </tr>\n",
              "    <tr>\n",
              "      <th>6</th>\n",
              "      <td>T_04682</td>\n",
              "      <td>2024-12-28</td>\n",
              "      <td>Zoho Desk</td>\n",
              "      <td>5.00</td>\n",
              "      <td>4.00</td>\n",
              "      <td>5.00</td>\n",
              "      <td>5.00</td>\n",
              "      <td>5.00</td>\n",
              "      <td>8.00</td>\n",
              "      <td>It has been very useful so far to integrate mu...</td>\n",
              "    </tr>\n",
              "    <tr>\n",
              "      <th>8</th>\n",
              "      <td>T_01238</td>\n",
              "      <td>2024-11-02</td>\n",
              "      <td>Freshdesk</td>\n",
              "      <td>4.00</td>\n",
              "      <td>4.00</td>\n",
              "      <td>4.00</td>\n",
              "      <td>5.00</td>\n",
              "      <td>4.00</td>\n",
              "      <td>8.00</td>\n",
              "      <td>Pros:It's easy to use and very intuitive.We ha...</td>\n",
              "    </tr>\n",
              "  </tbody>\n",
              "</table>\n",
              "</div>\n",
              "    <div class=\"colab-df-buttons\">\n",
              "\n",
              "  <div class=\"colab-df-container\">\n",
              "    <button class=\"colab-df-convert\" onclick=\"convertToInteractive('df-56277fd1-c6ad-4d7c-9bc8-248c208c9334')\"\n",
              "            title=\"Convert this dataframe to an interactive table.\"\n",
              "            style=\"display:none;\">\n",
              "\n",
              "  <svg xmlns=\"http://www.w3.org/2000/svg\" height=\"24px\" viewBox=\"0 -960 960 960\">\n",
              "    <path d=\"M120-120v-720h720v720H120Zm60-500h600v-160H180v160Zm220 220h160v-160H400v160Zm0 220h160v-160H400v160ZM180-400h160v-160H180v160Zm440 0h160v-160H620v160ZM180-180h160v-160H180v160Zm440 0h160v-160H620v160Z\"/>\n",
              "  </svg>\n",
              "    </button>\n",
              "\n",
              "  <style>\n",
              "    .colab-df-container {\n",
              "      display:flex;\n",
              "      gap: 12px;\n",
              "    }\n",
              "\n",
              "    .colab-df-convert {\n",
              "      background-color: #E8F0FE;\n",
              "      border: none;\n",
              "      border-radius: 50%;\n",
              "      cursor: pointer;\n",
              "      display: none;\n",
              "      fill: #1967D2;\n",
              "      height: 32px;\n",
              "      padding: 0 0 0 0;\n",
              "      width: 32px;\n",
              "    }\n",
              "\n",
              "    .colab-df-convert:hover {\n",
              "      background-color: #E2EBFA;\n",
              "      box-shadow: 0px 1px 2px rgba(60, 64, 67, 0.3), 0px 1px 3px 1px rgba(60, 64, 67, 0.15);\n",
              "      fill: #174EA6;\n",
              "    }\n",
              "\n",
              "    .colab-df-buttons div {\n",
              "      margin-bottom: 4px;\n",
              "    }\n",
              "\n",
              "    [theme=dark] .colab-df-convert {\n",
              "      background-color: #3B4455;\n",
              "      fill: #D2E3FC;\n",
              "    }\n",
              "\n",
              "    [theme=dark] .colab-df-convert:hover {\n",
              "      background-color: #434B5C;\n",
              "      box-shadow: 0px 1px 3px 1px rgba(0, 0, 0, 0.15);\n",
              "      filter: drop-shadow(0px 1px 2px rgba(0, 0, 0, 0.3));\n",
              "      fill: #FFFFFF;\n",
              "    }\n",
              "  </style>\n",
              "\n",
              "    <script>\n",
              "      const buttonEl =\n",
              "        document.querySelector('#df-56277fd1-c6ad-4d7c-9bc8-248c208c9334 button.colab-df-convert');\n",
              "      buttonEl.style.display =\n",
              "        google.colab.kernel.accessAllowed ? 'block' : 'none';\n",
              "\n",
              "      async function convertToInteractive(key) {\n",
              "        const element = document.querySelector('#df-56277fd1-c6ad-4d7c-9bc8-248c208c9334');\n",
              "        const dataTable =\n",
              "          await google.colab.kernel.invokeFunction('convertToInteractive',\n",
              "                                                    [key], {});\n",
              "        if (!dataTable) return;\n",
              "\n",
              "        const docLinkHtml = 'Like what you see? Visit the ' +\n",
              "          '<a target=\"_blank\" href=https://colab.research.google.com/notebooks/data_table.ipynb>data table notebook</a>'\n",
              "          + ' to learn more about interactive tables.';\n",
              "        element.innerHTML = '';\n",
              "        dataTable['output_type'] = 'display_data';\n",
              "        await google.colab.output.renderOutput(dataTable, element);\n",
              "        const docLink = document.createElement('div');\n",
              "        docLink.innerHTML = docLinkHtml;\n",
              "        element.appendChild(docLink);\n",
              "      }\n",
              "    </script>\n",
              "  </div>\n",
              "\n",
              "\n",
              "    <div id=\"df-96daa21c-0db5-4362-82aa-81ea0da9dcdf\">\n",
              "      <button class=\"colab-df-quickchart\" onclick=\"quickchart('df-96daa21c-0db5-4362-82aa-81ea0da9dcdf')\"\n",
              "                title=\"Suggest charts\"\n",
              "                style=\"display:none;\">\n",
              "\n",
              "<svg xmlns=\"http://www.w3.org/2000/svg\" height=\"24px\"viewBox=\"0 0 24 24\"\n",
              "     width=\"24px\">\n",
              "    <g>\n",
              "        <path d=\"M19 3H5c-1.1 0-2 .9-2 2v14c0 1.1.9 2 2 2h14c1.1 0 2-.9 2-2V5c0-1.1-.9-2-2-2zM9 17H7v-7h2v7zm4 0h-2V7h2v10zm4 0h-2v-4h2v4z\"/>\n",
              "    </g>\n",
              "</svg>\n",
              "      </button>\n",
              "\n",
              "<style>\n",
              "  .colab-df-quickchart {\n",
              "      --bg-color: #E8F0FE;\n",
              "      --fill-color: #1967D2;\n",
              "      --hover-bg-color: #E2EBFA;\n",
              "      --hover-fill-color: #174EA6;\n",
              "      --disabled-fill-color: #AAA;\n",
              "      --disabled-bg-color: #DDD;\n",
              "  }\n",
              "\n",
              "  [theme=dark] .colab-df-quickchart {\n",
              "      --bg-color: #3B4455;\n",
              "      --fill-color: #D2E3FC;\n",
              "      --hover-bg-color: #434B5C;\n",
              "      --hover-fill-color: #FFFFFF;\n",
              "      --disabled-bg-color: #3B4455;\n",
              "      --disabled-fill-color: #666;\n",
              "  }\n",
              "\n",
              "  .colab-df-quickchart {\n",
              "    background-color: var(--bg-color);\n",
              "    border: none;\n",
              "    border-radius: 50%;\n",
              "    cursor: pointer;\n",
              "    display: none;\n",
              "    fill: var(--fill-color);\n",
              "    height: 32px;\n",
              "    padding: 0;\n",
              "    width: 32px;\n",
              "  }\n",
              "\n",
              "  .colab-df-quickchart:hover {\n",
              "    background-color: var(--hover-bg-color);\n",
              "    box-shadow: 0 1px 2px rgba(60, 64, 67, 0.3), 0 1px 3px 1px rgba(60, 64, 67, 0.15);\n",
              "    fill: var(--button-hover-fill-color);\n",
              "  }\n",
              "\n",
              "  .colab-df-quickchart-complete:disabled,\n",
              "  .colab-df-quickchart-complete:disabled:hover {\n",
              "    background-color: var(--disabled-bg-color);\n",
              "    fill: var(--disabled-fill-color);\n",
              "    box-shadow: none;\n",
              "  }\n",
              "\n",
              "  .colab-df-spinner {\n",
              "    border: 2px solid var(--fill-color);\n",
              "    border-color: transparent;\n",
              "    border-bottom-color: var(--fill-color);\n",
              "    animation:\n",
              "      spin 1s steps(1) infinite;\n",
              "  }\n",
              "\n",
              "  @keyframes spin {\n",
              "    0% {\n",
              "      border-color: transparent;\n",
              "      border-bottom-color: var(--fill-color);\n",
              "      border-left-color: var(--fill-color);\n",
              "    }\n",
              "    20% {\n",
              "      border-color: transparent;\n",
              "      border-left-color: var(--fill-color);\n",
              "      border-top-color: var(--fill-color);\n",
              "    }\n",
              "    30% {\n",
              "      border-color: transparent;\n",
              "      border-left-color: var(--fill-color);\n",
              "      border-top-color: var(--fill-color);\n",
              "      border-right-color: var(--fill-color);\n",
              "    }\n",
              "    40% {\n",
              "      border-color: transparent;\n",
              "      border-right-color: var(--fill-color);\n",
              "      border-top-color: var(--fill-color);\n",
              "    }\n",
              "    60% {\n",
              "      border-color: transparent;\n",
              "      border-right-color: var(--fill-color);\n",
              "    }\n",
              "    80% {\n",
              "      border-color: transparent;\n",
              "      border-right-color: var(--fill-color);\n",
              "      border-bottom-color: var(--fill-color);\n",
              "    }\n",
              "    90% {\n",
              "      border-color: transparent;\n",
              "      border-bottom-color: var(--fill-color);\n",
              "    }\n",
              "  }\n",
              "</style>\n",
              "\n",
              "      <script>\n",
              "        async function quickchart(key) {\n",
              "          const quickchartButtonEl =\n",
              "            document.querySelector('#' + key + ' button');\n",
              "          quickchartButtonEl.disabled = true;  // To prevent multiple clicks.\n",
              "          quickchartButtonEl.classList.add('colab-df-spinner');\n",
              "          try {\n",
              "            const charts = await google.colab.kernel.invokeFunction(\n",
              "                'suggestCharts', [key], {});\n",
              "          } catch (error) {\n",
              "            console.error('Error during call to suggestCharts:', error);\n",
              "          }\n",
              "          quickchartButtonEl.classList.remove('colab-df-spinner');\n",
              "          quickchartButtonEl.classList.add('colab-df-quickchart-complete');\n",
              "        }\n",
              "        (() => {\n",
              "          let quickchartButtonEl =\n",
              "            document.querySelector('#df-96daa21c-0db5-4362-82aa-81ea0da9dcdf button');\n",
              "          quickchartButtonEl.style.display =\n",
              "            google.colab.kernel.accessAllowed ? 'block' : 'none';\n",
              "        })();\n",
              "      </script>\n",
              "    </div>\n",
              "\n",
              "    </div>\n",
              "  </div>\n"
            ],
            "application/vnd.google.colaboratory.intrinsic+json": {
              "type": "dataframe",
              "variable_name": "responded_customers_df",
              "summary": "{\n  \"name\": \"responded_customers_df\",\n  \"rows\": 787,\n  \"fields\": [\n    {\n      \"column\": \"id_survey\",\n      \"properties\": {\n        \"dtype\": \"string\",\n        \"num_unique_values\": 787,\n        \"samples\": [\n          \"T_04538\",\n          \"T_03341\",\n          \"T_01595\"\n        ],\n        \"semantic_type\": \"\",\n        \"description\": \"\"\n      }\n    },\n    {\n      \"column\": \"date_of_survey\",\n      \"properties\": {\n        \"dtype\": \"date\",\n        \"min\": \"2024-10-01 00:00:00\",\n        \"max\": \"2024-12-30 00:00:00\",\n        \"num_unique_values\": 90,\n        \"samples\": [\n          \"2024-11-23 00:00:00\",\n          \"2024-11-10 00:00:00\",\n          \"2024-10-22 00:00:00\"\n        ],\n        \"semantic_type\": \"\",\n        \"description\": \"\"\n      }\n    },\n    {\n      \"column\": \"ticket_system\",\n      \"properties\": {\n        \"dtype\": \"category\",\n        \"num_unique_values\": 6,\n        \"samples\": [\n          \"Zendesk\",\n          \"Zoho Desk\",\n          \"Jira Service Management\"\n        ],\n        \"semantic_type\": \"\",\n        \"description\": \"\"\n      }\n    },\n    {\n      \"column\": \"overall_rating\",\n      \"properties\": {\n        \"dtype\": \"number\",\n        \"std\": 0.6360686958755708,\n        \"min\": 1.0,\n        \"max\": 5.0,\n        \"num_unique_values\": 5,\n        \"samples\": [\n          5.0,\n          2.0,\n          4.0\n        ],\n        \"semantic_type\": \"\",\n        \"description\": \"\"\n      }\n    },\n    {\n      \"column\": \"customer_service\",\n      \"properties\": {\n        \"dtype\": \"number\",\n        \"std\": 1.1351845787327275,\n        \"min\": -1.0,\n        \"max\": 5.0,\n        \"num_unique_values\": 7,\n        \"samples\": [\n          4.0,\n          5.0,\n          -1.0\n        ],\n        \"semantic_type\": \"\",\n        \"description\": \"\"\n      }\n    },\n    {\n      \"column\": \"features\",\n      \"properties\": {\n        \"dtype\": \"number\",\n        \"std\": 0.7216204925204112,\n        \"min\": 1.0,\n        \"max\": 5.0,\n        \"num_unique_values\": 5,\n        \"samples\": [\n          5.0,\n          1.0,\n          4.0\n        ],\n        \"semantic_type\": \"\",\n        \"description\": \"\"\n      }\n    },\n    {\n      \"column\": \"value_for_money\",\n      \"properties\": {\n        \"dtype\": \"number\",\n        \"std\": 0.822243869820621,\n        \"min\": 1.0,\n        \"max\": 5.0,\n        \"num_unique_values\": 5,\n        \"samples\": [\n          5.0,\n          1.0,\n          4.0\n        ],\n        \"semantic_type\": \"\",\n        \"description\": \"\"\n      }\n    },\n    {\n      \"column\": \"ease_of_use\",\n      \"properties\": {\n        \"dtype\": \"number\",\n        \"std\": 0.7346529967647698,\n        \"min\": 1.0,\n        \"max\": 5.0,\n        \"num_unique_values\": 5,\n        \"samples\": [\n          5.0,\n          1.0,\n          4.0\n        ],\n        \"semantic_type\": \"\",\n        \"description\": \"\"\n      }\n    },\n    {\n      \"column\": \"likelihood_to_recommend\",\n      \"properties\": {\n        \"dtype\": \"number\",\n        \"std\": 1.719813428162628,\n        \"min\": -1.0,\n        \"max\": 10.0,\n        \"num_unique_values\": 12,\n        \"samples\": [\n          0.0,\n          1.0,\n          6.0\n        ],\n        \"semantic_type\": \"\",\n        \"description\": \"\"\n      }\n    },\n    {\n      \"column\": \"overall_text\",\n      \"properties\": {\n        \"dtype\": \"string\",\n        \"num_unique_values\": 787,\n        \"samples\": [\n          \"Follow ups + Customer services management\",\n          \"systematic management of customer tickets as well as internal tasks.\",\n          \"Pros:Ease of use, Friendly user interface(UI)\"\n        ],\n        \"semantic_type\": \"\",\n        \"description\": \"\"\n      }\n    }\n  ]\n}"
            }
          },
          "metadata": {},
          "execution_count": 18
        }
      ]
    },
    {
      "cell_type": "markdown",
      "source": [
        "### CSAT Score\n",
        "\n",
        "Measure the customer's overall satisfaction score (CSAT) with the following formula:\n",
        "\n",
        "$$\n",
        "CSAT = \\frac{\\Sigma\\ total\\ satisfaction\\ score}{number\\ of\\ responded\\ customer \\times \\max\\ rating}\n",
        "$$\n",
        "\n",
        "The max rating is inserted to convert the CSAT score into percentage.\n",
        "\n",
        "CSAT score can be classified into categories based on the result. There is no absolute threshold for each categories but the following is the common threshold:\n",
        "\n",
        "- \\>= 90%: Excellent\n",
        "- 75%-90%: Good\n",
        "- 60-75%: Fair\n",
        "- \\<60%: Poor"
      ],
      "metadata": {
        "id": "ElP-9j-kIRbx"
      }
    },
    {
      "cell_type": "code",
      "source": [
        "# CSAT Score\n",
        "# Calculate CSAT Score\n",
        "max_rating = 5  # As given in the dataset, the max rating is 5\n",
        "\n",
        "# Sum of all satisfaction scores (i.e., overall_rating)\n",
        "total_satisfaction_score = responded_customers_df['overall_rating'].sum()\n",
        "\n",
        "# Number of responded customers\n",
        "responded_customers_count = responded_customers_df.shape[0]\n",
        "\n",
        "# Calculate CSAT as percentage\n",
        "CSAT_score = (total_satisfaction_score / (responded_customers_count * max_rating)) * 100\n",
        "\n",
        "# Categorize CSAT Score\n",
        "if CSAT_score >= 90:\n",
        "    CSAT_category = 'Excellent'\n",
        "elif 75 <= CSAT_score < 90:\n",
        "    CSAT_category = 'Good'\n",
        "elif 60 <= CSAT_score < 75:\n",
        "    CSAT_category = 'Fair'\n",
        "else:\n",
        "    CSAT_category = 'Poor'\n",
        "\n",
        "# Output the CSAT Score and category\n",
        "print(f\"CSAT Score: {CSAT_score:.2f}%\")\n",
        "print(f\"CSAT Category: {CSAT_category}\")\n"
      ],
      "metadata": {
        "id": "8SXtpsGUIw74",
        "colab": {
          "base_uri": "https://localhost:8080/"
        },
        "outputId": "a4d7e0c4-5270-4d3d-f34e-d86e75768cfe"
      },
      "execution_count": 19,
      "outputs": [
        {
          "output_type": "stream",
          "name": "stdout",
          "text": [
            "CSAT Score: 91.18%\n",
            "CSAT Category: Excellent\n"
          ]
        }
      ]
    },
    {
      "cell_type": "markdown",
      "source": [
        "Measure the satisfaction score for the following attributes:\n",
        "\n",
        "- customer service\n",
        "- features\n",
        "- value for money"
      ],
      "metadata": {
        "id": "JIILkWU2TBEy"
      }
    },
    {
      "cell_type": "code",
      "source": [
        "# Satisfaction Score for Attributes\n",
        "# Define the attributes to calculate satisfaction scores for\n",
        "attributes = ['customer_service', 'features', 'value_for_money']\n",
        "\n",
        "# Initialize a dictionary to store the satisfaction scores for each attribute\n",
        "satisfaction_scores = {}\n",
        "\n",
        "# Calculate satisfaction score for each attribute\n",
        "for attribute in attributes:\n",
        "    # Sum of all ratings for the current attribute\n",
        "    total_score = responded_customers_df[attribute].sum()\n",
        "\n",
        "    # Calculate satisfaction score as a percentage\n",
        "    satisfaction_score = (total_score / (responded_customers_count * max_rating)) * 100\n",
        "\n",
        "    # Store the result in the dictionary\n",
        "    satisfaction_scores[attribute] = satisfaction_score\n",
        "\n",
        "# Output the satisfaction scores for the attributes\n",
        "for attribute, score in satisfaction_scores.items():\n",
        "    print(f\"{attribute.replace('_', ' ').title()} Satisfaction Score: {score:.2f}%\")\n"
      ],
      "metadata": {
        "id": "VDseU9Y2Uj5B",
        "colab": {
          "base_uri": "https://localhost:8080/"
        },
        "outputId": "861f0e09-7a83-4c6d-fc81-4553742cc004"
      },
      "execution_count": 21,
      "outputs": [
        {
          "output_type": "stream",
          "name": "stdout",
          "text": [
            "Customer Service Satisfaction Score: 67.34%\n",
            "Features Satisfaction Score: 88.34%\n",
            "Value For Money Satisfaction Score: 87.60%\n"
          ]
        }
      ]
    },
    {
      "cell_type": "markdown",
      "source": [
        "### CES Score\n",
        "\n",
        "Measure CES with the following formula\n",
        "\n",
        "\n",
        "$$\n",
        "CES = \\frac{\\Sigma\\ total\\ effort\\ score}{number\\ of\\ responded\\ customer \\times \\max\\ rating}\n",
        "$$"
      ],
      "metadata": {
        "id": "SqZMFs24M03k"
      }
    },
    {
      "cell_type": "code",
      "source": [
        "# CES Score\n",
        "# Assuming 'customer_service' is used as an indicator of customer effort in the dataset\n",
        "# If there's another column for effort, replace 'customer_service' with the correct column name\n",
        "\n",
        "# Calculate CES (Customer Effort Score)\n",
        "effort_column = 'customer_service'  # Replace with the relevant column if different\n",
        "\n",
        "# Sum of all effort scores (i.e., customer_service or a specific effort-related column)\n",
        "total_effort_score = responded_customers_df[effort_column].sum()\n",
        "\n",
        "# Calculate CES as percentage\n",
        "CES_score = (total_effort_score / (responded_customers_count * max_rating)) * 100\n",
        "\n",
        "# Output the CES Score\n",
        "print(f\"CES Score: {CES_score:.2f}%\")\n",
        "\n"
      ],
      "metadata": {
        "id": "6gLvVDVENE17",
        "colab": {
          "base_uri": "https://localhost:8080/"
        },
        "outputId": "9247c6ad-a22c-445e-c6ad-9455123d2188"
      },
      "execution_count": 22,
      "outputs": [
        {
          "output_type": "stream",
          "name": "stdout",
          "text": [
            "CES Score: 67.34%\n"
          ]
        }
      ]
    },
    {
      "cell_type": "markdown",
      "source": [
        "### NPS Score\n",
        "\n",
        "To calculate the NPS score, first we must convert the **would_you_recommend** column into proper NPS Category based on the rating value:\n",
        "\n",
        "* Promoter: Rating 9-10\n",
        "* Passive: Rating 7-8\n",
        "* Detractor: Rating < 7"
      ],
      "metadata": {
        "id": "TfeJ_6ObmdS3"
      }
    },
    {
      "cell_type": "code",
      "source": [
        "# Ganti 'likelihood_to_recommend' dengan nama kolom yang benar\n",
        "nps_column = 'likelihood_to_recommend'\n",
        "\n",
        "# Create a new column to categorize respondents into Promoters, Passives, and Detractors\n",
        "responded_customers_df['nps_category'] = responded_customers_df[nps_column].apply(\n",
        "    lambda x: 'Promoter' if x >= 9 else ('Passive' if x >= 7 else 'Detractor')\n",
        ")\n",
        "\n",
        "# Calculate the percentage of Promoters and Detractors\n",
        "promoters_count = responded_customers_df[responded_customers_df['nps_category'] == 'Promoter'].shape[0]\n",
        "detractors_count = responded_customers_df[responded_customers_df['nps_category'] == 'Detractor'].shape[0]\n",
        "\n",
        "# Calculate the total number of respondents\n",
        "total_respondents = responded_customers_df.shape[0]\n",
        "\n",
        "# Calculate the percentages\n",
        "percentage_promoters = (promoters_count / total_respondents) * 100\n",
        "percentage_detractors = (detractors_count / total_respondents) * 100\n",
        "\n",
        "# Calculate NPS Score\n",
        "NPS_score = percentage_promoters - percentage_detractors\n",
        "\n",
        "# Output the NPS categories and NPS score\n",
        "print(f\"Percentage of Promoters: {percentage_promoters:.2f}%\")\n",
        "print(f\"Percentage of Detractors: {percentage_detractors:.2f}%\")\n",
        "print(f\"NPS Score: {NPS_score:.2f}\")\n"
      ],
      "metadata": {
        "id": "m_7VwpRiwrH6",
        "colab": {
          "base_uri": "https://localhost:8080/"
        },
        "outputId": "47b7828f-fb77-416c-cc16-5a52fd42950b"
      },
      "execution_count": 26,
      "outputs": [
        {
          "output_type": "stream",
          "name": "stdout",
          "text": [
            "Percentage of Promoters: 31.89%\n",
            "Percentage of Detractors: 19.95%\n",
            "NPS Score: 11.94\n"
          ]
        },
        {
          "output_type": "stream",
          "name": "stderr",
          "text": [
            "<ipython-input-26-ae79a571aeac>:5: SettingWithCopyWarning: \n",
            "A value is trying to be set on a copy of a slice from a DataFrame.\n",
            "Try using .loc[row_indexer,col_indexer] = value instead\n",
            "\n",
            "See the caveats in the documentation: https://pandas.pydata.org/pandas-docs/stable/user_guide/indexing.html#returning-a-view-versus-a-copy\n",
            "  responded_customers_df['nps_category'] = responded_customers_df[nps_column].apply(\n"
          ]
        }
      ]
    },
    {
      "cell_type": "markdown",
      "source": [
        "\n",
        "Calculate the NPS Score with the following formula\n",
        "\n",
        "$$\n",
        "NPS = \\frac{Promoter - Detractor}{Total\\ Survey\\ Responded}\n",
        "$$"
      ],
      "metadata": {
        "id": "LqsnFMysmrDF"
      }
    },
    {
      "cell_type": "code",
      "source": [
        "# NPS Score\n",
        "# Calculate NPS Score using the new formula\n",
        "promoters_count = responded_customers_df[responded_customers_df['nps_category'] == 'Promoter'].shape[0]\n",
        "detractors_count = responded_customers_df[responded_customers_df['nps_category'] == 'Detractor'].shape[0]\n",
        "\n",
        "# Calculate the total number of respondents\n",
        "total_respondents = responded_customers_df.shape[0]\n",
        "\n",
        "# Calculate NPS Score using the new formula\n",
        "NPS_score = ((promoters_count - detractors_count) / total_respondents) * 100\n",
        "\n",
        "# Output the NPS Score\n",
        "print(f\"NPS Score: {NPS_score:.2f}\")\n"
      ],
      "metadata": {
        "id": "GXcgu1jpxw_c",
        "colab": {
          "base_uri": "https://localhost:8080/"
        },
        "outputId": "f1beab45-7c85-4f43-e554-fc8eadc62713"
      },
      "execution_count": 28,
      "outputs": [
        {
          "output_type": "stream",
          "name": "stdout",
          "text": [
            "NPS Score: 11.94\n"
          ]
        }
      ]
    },
    {
      "cell_type": "markdown",
      "source": [
        "NPS score can be ranging from -100 (when all customers are detractor) to 100 (when all customers are promoter).\n",
        "\n",
        "NPS Score can be classified into categories based on the following threshold:\n",
        "\n",
        "- \\>= 70: Excellent\n",
        "- 50-69: Very Good\n",
        "- 30-49: Good\n",
        "- 0-29: Average\n",
        "- \\< 0: Poor"
      ],
      "metadata": {
        "id": "DnrnprG-bZv9"
      }
    },
    {
      "cell_type": "markdown",
      "source": [
        "## Sentiment Analysis\n",
        "\n",
        "Create a new dataframe with no blank overall_text."
      ],
      "metadata": {
        "id": "A358JFml0PxG"
      }
    },
    {
      "cell_type": "code",
      "source": [
        "# Create new dataframe\n",
        "# Filter dataframe to create a new one with no blank 'overall_text'\n",
        "non_blank_reviews_df = responded_customers_df[responded_customers_df['overall_text'].notna()]\n",
        "\n",
        "# Optionally, reset the index of the new DataFrame\n",
        "non_blank_reviews_df = non_blank_reviews_df.reset_index(drop=True)\n",
        "\n",
        "# Output the first few rows to verify\n",
        "print(non_blank_reviews_df.head())\n"
      ],
      "metadata": {
        "id": "16O516Us0O8K",
        "colab": {
          "base_uri": "https://localhost:8080/"
        },
        "outputId": "a9a611d7-ef61-4dd2-899c-310dc6962620"
      },
      "execution_count": 29,
      "outputs": [
        {
          "output_type": "stream",
          "name": "stdout",
          "text": [
            "  id_survey date_of_survey ticket_system  overall_rating  customer_service  \\\n",
            "0   T_00229     2024-10-06       Zendesk            3.00              4.00   \n",
            "1   T_04527     2024-12-26     Zoho Desk            5.00              5.00   \n",
            "2   T_00644     2024-10-17       Zendesk            5.00              3.00   \n",
            "3   T_04682     2024-12-28     Zoho Desk            5.00              4.00   \n",
            "4   T_01238     2024-11-02     Freshdesk            4.00              4.00   \n",
            "\n",
            "   features  value_for_money  ease_of_use  likelihood_to_recommend  \\\n",
            "0      3.00             3.00         2.00                     6.00   \n",
            "1      5.00             5.00         5.00                     8.00   \n",
            "2      4.00             5.00         5.00                     6.00   \n",
            "3      5.00             5.00         5.00                     8.00   \n",
            "4      4.00             5.00         4.00                     8.00   \n",
            "\n",
            "                                        overall_text nps_category  \n",
            "0                       Customer tickets managements    Detractor  \n",
            "1  After 6 months of using the Zoho desk, we shif...      Passive  \n",
            "2  Pros:Zendesk has always been one of the go-to ...    Detractor  \n",
            "3  It has been very useful so far to integrate mu...      Passive  \n",
            "4  Pros:It's easy to use and very intuitive.We ha...      Passive  \n"
          ]
        }
      ]
    },
    {
      "cell_type": "markdown",
      "source": [
        "### Text Cleansing\n",
        "\n",
        "In order to get more accurate sentiment, several text cleansing need to be done. However, in most of recent sentiment analysis models and algorithm, the only text cleansing needed are as follows:\n",
        "\n",
        "* Clean double whitespace\n",
        "* Clean URL/website\n",
        "* Clean username (mostly in social media or digital text)"
      ],
      "metadata": {
        "id": "hO_m9gr32BiD"
      }
    },
    {
      "cell_type": "code",
      "source": [
        "import re\n",
        "\n",
        "def cleansing_text(x):\n",
        "  # clean double whitespace\n",
        "  out_text = ' '.join(x.split())\n",
        "\n",
        "  # clean url\n",
        "  out_text = re.sub(r\"http\\S+|www\\S+|https\\S+\", 'http', out_text)\n",
        "\n",
        "  # clean username\n",
        "  out_text = re.sub(r\"@\\S+\", '@user', out_text)\n",
        "\n",
        "  return(out_text)\n",
        "\n",
        "cleansing_text(\" Doesn't  dissapoint. The car       was great. It was the best car rental experiences I've had! Salute to @jone who recommend https:/rental.com\")"
      ],
      "metadata": {
        "id": "gwZwCYT22Y68",
        "colab": {
          "base_uri": "https://localhost:8080/",
          "height": 35
        },
        "outputId": "8fb3d2ee-6478-45cf-cf4d-be481b9f2ad8"
      },
      "execution_count": 30,
      "outputs": [
        {
          "output_type": "execute_result",
          "data": {
            "text/plain": [
              "\"Doesn't dissapoint. The car was great. It was the best car rental experiences I've had! Salute to @user who recommend http\""
            ],
            "application/vnd.google.colaboratory.intrinsic+json": {
              "type": "string"
            }
          },
          "metadata": {},
          "execution_count": 30
        }
      ]
    },
    {
      "cell_type": "code",
      "source": [
        "# apply cleansing to review\n",
        "import re\n",
        "\n",
        "# Define the text cleansing function\n",
        "def cleansing_text(x):\n",
        "    # Clean double whitespace\n",
        "    out_text = ' '.join(x.split())\n",
        "\n",
        "    # Clean URL\n",
        "    out_text = re.sub(r\"http\\S+|www\\S+|https\\S+\", 'http', out_text)\n",
        "\n",
        "    # Clean username\n",
        "    out_text = re.sub(r\"@\\S+\", '@user', out_text)\n",
        "\n",
        "    return out_text\n",
        "\n",
        "# Apply the cleansing function to the 'overall_text' column\n",
        "non_blank_reviews_df['cleaned_text'] = non_blank_reviews_df['overall_text'].apply(cleansing_text)\n",
        "\n",
        "# Output the first few rows to verify the changes\n",
        "print(non_blank_reviews_df[['overall_text', 'cleaned_text']].head())\n"
      ],
      "metadata": {
        "id": "pR5rusE11cJk",
        "colab": {
          "base_uri": "https://localhost:8080/"
        },
        "outputId": "f169b8a3-3165-4a90-a8f4-9fcda7b955b4"
      },
      "execution_count": 32,
      "outputs": [
        {
          "output_type": "stream",
          "name": "stdout",
          "text": [
            "                                        overall_text  \\\n",
            "0                       Customer tickets managements   \n",
            "1  After 6 months of using the Zoho desk, we shif...   \n",
            "2  Pros:Zendesk has always been one of the go-to ...   \n",
            "3  It has been very useful so far to integrate mu...   \n",
            "4  Pros:It's easy to use and very intuitive.We ha...   \n",
            "\n",
            "                                        cleaned_text  \n",
            "0                       Customer tickets managements  \n",
            "1  After 6 months of using the Zoho desk, we shif...  \n",
            "2  Pros:Zendesk has always been one of the go-to ...  \n",
            "3  It has been very useful so far to integrate mu...  \n",
            "4  Pros:It's easy to use and very intuitive.We ha...  \n"
          ]
        }
      ]
    },
    {
      "cell_type": "markdown",
      "source": [
        "### Sentiment Analysis\n",
        "\n",
        "Create a sentiment categories using algorithm of your own choice."
      ],
      "metadata": {
        "id": "_oIgoqbp8gBL"
      }
    },
    {
      "cell_type": "code",
      "source": [
        "# Sentiment Algorithm\n",
        "import nltk\n",
        "from nltk.sentiment.vader import SentimentIntensityAnalyzer\n",
        "\n",
        "# Pastikan Anda sudah mengunduh resource untuk VADER jika belum\n",
        "nltk.download('vader_lexicon')\n",
        "\n",
        "# Inisialisasi SentimentIntensityAnalyzer\n",
        "sia = SentimentIntensityAnalyzer()\n",
        "\n",
        "# Fungsi untuk menentukan kategori sentimen berdasarkan skor VADER\n",
        "def sentiment_category(text):\n",
        "    # Mendapatkan skor sentimen\n",
        "    sentiment_score = sia.polarity_scores(text)['compound']\n",
        "\n",
        "    # Kategorikan berdasarkan nilai sentimen\n",
        "    if sentiment_score >= 0.05:\n",
        "        return 'Positive'\n",
        "    elif sentiment_score <= -0.05:\n",
        "        return 'Negative'\n",
        "    else:\n",
        "        return 'Neutral'\n",
        "\n",
        "# Apply the sentiment function to the cleaned_text column\n",
        "non_blank_reviews_df['sentiment_category'] = non_blank_reviews_df['cleaned_text'].apply(sentiment_category)\n",
        "\n",
        "# Output the first few rows to verify the sentiment categorization\n",
        "print(non_blank_reviews_df[['cleaned_text', 'sentiment_category']].head())\n"
      ],
      "metadata": {
        "id": "3OrsqgPR8ju9",
        "colab": {
          "base_uri": "https://localhost:8080/"
        },
        "outputId": "b2b349ee-1996-4993-f48e-856caebd0867"
      },
      "execution_count": 34,
      "outputs": [
        {
          "output_type": "stream",
          "name": "stderr",
          "text": [
            "[nltk_data] Downloading package vader_lexicon to /root/nltk_data...\n"
          ]
        },
        {
          "output_type": "stream",
          "name": "stdout",
          "text": [
            "                                        cleaned_text sentiment_category\n",
            "0                       Customer tickets managements            Neutral\n",
            "1  After 6 months of using the Zoho desk, we shif...           Positive\n",
            "2  Pros:Zendesk has always been one of the go-to ...           Positive\n",
            "3  It has been very useful so far to integrate mu...           Positive\n",
            "4  Pros:It's easy to use and very intuitive.We ha...           Positive\n"
          ]
        }
      ]
    },
    {
      "cell_type": "markdown",
      "source": [
        "Check the number of data by sentiment."
      ],
      "metadata": {
        "id": "XGfkO0398K9_"
      }
    },
    {
      "cell_type": "code",
      "source": [
        "# Number of Sentiment\n",
        "# Check the number of data by sentiment category\n",
        "sentiment_counts = non_blank_reviews_df['sentiment_category'].value_counts()\n",
        "\n",
        "# Output the sentiment counts\n",
        "print(sentiment_counts)\n"
      ],
      "metadata": {
        "id": "xlQhVTwzo8qn",
        "colab": {
          "base_uri": "https://localhost:8080/"
        },
        "outputId": "34a1dfae-7e8b-451c-f5d7-177e688e9e2f"
      },
      "execution_count": 36,
      "outputs": [
        {
          "output_type": "stream",
          "name": "stdout",
          "text": [
            "sentiment_category\n",
            "Positive    673\n",
            "Neutral      86\n",
            "Negative     28\n",
            "Name: count, dtype: int64\n"
          ]
        }
      ]
    },
    {
      "cell_type": "markdown",
      "source": [
        "## Finalize Data for Reporting\n",
        "\n",
        "Save the review data with NPS category and sentiment information to new csv for the dashboard."
      ],
      "metadata": {
        "id": "q1_JUY3R-2g_"
      }
    },
    {
      "cell_type": "code",
      "source": [
        "# Save Data\n",
        "# Select relevant columns to save for the dashboard\n",
        "final_df = non_blank_reviews_df[['id_survey', 'date_of_survey', 'ticket_system', 'overall_rating',\n",
        "                                  'customer_service', 'features', 'value_for_money', 'ease_of_use',\n",
        "                                  'likelihood_to_recommend', 'overall_text', 'nps_category',\n",
        "                                  'sentiment_category']]\n",
        "\n",
        "# Save the final DataFrame to a new CSV file with the specified name\n",
        "final_df.to_csv('final_ticket_system_review.csv', index=False)\n",
        "\n",
        "# Output a confirmation message\n",
        "print(\"Data has been saved to 'final_ticket_system_review.csv'\")\n"
      ],
      "metadata": {
        "id": "e3RZ-nrf-1mx",
        "colab": {
          "base_uri": "https://localhost:8080/"
        },
        "outputId": "cad40de9-9737-4c5b-d74a-2529f93a0969"
      },
      "execution_count": 39,
      "outputs": [
        {
          "output_type": "stream",
          "name": "stdout",
          "text": [
            "Data has been saved to 'final_ticket_system_review.csv'\n"
          ]
        }
      ]
    }
  ]
}